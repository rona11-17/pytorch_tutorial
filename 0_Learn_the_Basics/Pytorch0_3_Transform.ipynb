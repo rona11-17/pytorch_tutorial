{
  "nbformat": 4,
  "nbformat_minor": 0,
  "metadata": {
    "colab": {
      "provenance": [],
      "authorship_tag": "ABX9TyOwUNjx2YTwUqbNg2znVoue",
      "include_colab_link": true
    },
    "kernelspec": {
      "name": "python3",
      "display_name": "Python 3"
    },
    "language_info": {
      "name": "python"
    }
  },
  "cells": [
    {
      "cell_type": "markdown",
      "metadata": {
        "id": "view-in-github",
        "colab_type": "text"
      },
      "source": [
        "<a href=\"https://colab.research.google.com/github/rona11-17/pytorch_tutorial/blob/main/Pytorch1_3_Transform.ipynb\" target=\"_parent\"><img src=\"https://colab.research.google.com/assets/colab-badge.svg\" alt=\"Open In Colab\"/></a>"
      ]
    },
    {
      "cell_type": "markdown",
      "source": [
        "# Transforms\n",
        "transformを使用いてデータに何らかの処理を行い、学習に適した形へ変換したい\n",
        "TorchVisionの全データセットには２つのパラメータがある。\n",
        "- trasform\n",
        "- target_transform\n",
        "\n",
        "torchvision.transformsモジュールは、頻繁に使用される変換を提供するライブラリ"
      ],
      "metadata": {
        "id": "27icWWlAh3kL"
      }
    },
    {
      "cell_type": "code",
      "source": [
        "%matplotlib inline"
      ],
      "metadata": {
        "id": "Dti43CTwiqV_"
      },
      "execution_count": null,
      "outputs": []
    },
    {
      "cell_type": "code",
      "source": [
        "import torch\n",
        "from torchvision import datasets\n",
        "from torchvision.transforms import ToTensor, Lambda\n",
        "\n",
        "ds = datasets.FashionMNIST(\n",
        "    root=\"data\",\n",
        "    train=True,\n",
        "    download=True,\n",
        "    transform=ToTensor(),\n",
        "    target_transform=Lambda(lambda y: torch.zeros(10, dtype=torch.float).scatter_(0, torch.tensor(y), value=1))\n",
        ")"
      ],
      "metadata": {
        "colab": {
          "base_uri": "https://localhost:8080/"
        },
        "id": "519iVgaHisIT",
        "outputId": "fafb854d-4bd7-48c9-e2a4-b06eb75b5c29"
      },
      "execution_count": null,
      "outputs": [
        {
          "output_type": "stream",
          "name": "stderr",
          "text": [
            "100%|██████████| 26.4M/26.4M [00:02<00:00, 9.04MB/s]\n",
            "100%|██████████| 29.5k/29.5k [00:00<00:00, 137kB/s]\n",
            "100%|██████████| 4.42M/4.42M [00:01<00:00, 2.55MB/s]\n",
            "100%|██████████| 5.15k/5.15k [00:00<00:00, 13.0MB/s]\n"
          ]
        }
      ]
    },
    {
      "cell_type": "markdown",
      "source": [
        "scatter(dim, torch_index, value)"
      ],
      "metadata": {
        "id": "MygdeD1BjIia"
      }
    }
  ]
}