{
  "nbformat": 4,
  "nbformat_minor": 0,
  "metadata": {
    "colab": {
      "provenance": [],
      "authorship_tag": "ABX9TyNjvDv7jvddsE2j8WZwmaVp",
      "include_colab_link": true
    },
    "kernelspec": {
      "name": "python3",
      "display_name": "Python 3"
    },
    "language_info": {
      "name": "python"
    }
  },
  "cells": [
    {
      "cell_type": "markdown",
      "metadata": {
        "id": "view-in-github",
        "colab_type": "text"
      },
      "source": [
        "<a href=\"https://colab.research.google.com/github/rona11-17/pytorch_tutorial/blob/main/0_Learn_the_Basics/Pytorch0_6_optimization.ipynb\" target=\"_parent\"><img src=\"https://colab.research.google.com/assets/colab-badge.svg\" alt=\"Open In Colab\"/></a>"
      ]
    },
    {
      "cell_type": "markdown",
      "source": [
        "# Pytorch入門6.最適化"
      ],
      "metadata": {
        "id": "o2QvmXI_An-y"
      }
    },
    {
      "cell_type": "code",
      "source": [
        "%matplotlib inline"
      ],
      "metadata": {
        "id": "pejK6R1NBFHs"
      },
      "execution_count": 1,
      "outputs": []
    },
    {
      "cell_type": "code",
      "source": [
        "import torch\n",
        "from torch import nn\n",
        "from torch.utils.data import DataLoader\n",
        "from torchvision import datasets\n",
        "from torchvision.transforms import ToTensor, Lambda"
      ],
      "metadata": {
        "id": "MkJWhkLrBISv"
      },
      "execution_count": 2,
      "outputs": []
    },
    {
      "cell_type": "code",
      "source": [
        "training_data = datasets.FashionMNIST(\n",
        "    root=\"data\",\n",
        "    train=True,\n",
        "    download=True,\n",
        "    transform=ToTensor()\n",
        ")\n",
        "\n",
        "test_data = datasets.FashionMNIST(\n",
        "    root=\"data\",\n",
        "    train=False,\n",
        "    download=True,\n",
        "    transform=ToTensor()\n",
        ")\n",
        "\n",
        "train_dataloader = DataLoader(training_data, batch_size=64)\n",
        "test_dataloader = DataLoader(test_data, batch_size=64)\n",
        "\n",
        "class NeuralNetwork(nn.Module):\n",
        "  def __init__(self):\n",
        "    super(NeuralNetwork, self).__init__()\n",
        "    self.flatten = nn.Flatten()\n",
        "    self.linear_relu_stack = nn.Sequential(\n",
        "        nn.Linear(28*28, 512),\n",
        "        nn.ReLU(),\n",
        "        nn.Linear(512, 512),\n",
        "        nn.ReLU(),\n",
        "        nn.Linear(512, 10),\n",
        "        nn.ReLU()\n",
        "    )\n",
        "\n",
        "  def forward(self, x):\n",
        "    x = self.flatten(x)\n",
        "    logits = self.linear_relu_stack(x)\n",
        "    return logits\n",
        "\n",
        "\n",
        "model = NeuralNetwork()\n"
      ],
      "metadata": {
        "colab": {
          "base_uri": "https://localhost:8080/"
        },
        "id": "SRkaCVoxEdQV",
        "outputId": "99f1774a-9757-4fb1-824a-db9eb03cac74"
      },
      "execution_count": 3,
      "outputs": [
        {
          "output_type": "stream",
          "name": "stderr",
          "text": [
            "100%|██████████| 26.4M/26.4M [00:01<00:00, 17.6MB/s]\n",
            "100%|██████████| 29.5k/29.5k [00:00<00:00, 296kB/s]\n",
            "100%|██████████| 4.42M/4.42M [00:00<00:00, 5.58MB/s]\n",
            "100%|██████████| 5.15k/5.15k [00:00<00:00, 10.7MB/s]\n"
          ]
        }
      ]
    },
    {
      "cell_type": "code",
      "source": [
        "# ハイパーパラメータの設定\n",
        "learning_rate = 1e-3\n",
        "batch_size = 64\n",
        "epochs = 5\n",
        "\n",
        "# 損失関数のセット\n",
        "loss_fn = nn.CrossEntropyLoss()\n",
        "\n",
        "# 最適化手法のセット\n",
        "optimizer = torch.optim.SGD(model.parameters(), lr=learning_rate)"
      ],
      "metadata": {
        "id": "8SsGDNLjHwt2"
      },
      "execution_count": 4,
      "outputs": []
    },
    {
      "cell_type": "markdown",
      "source": [
        "---\n",
        "## 最適化ループ\n",
        "各エポックは2種類のループから構成される\n",
        "- 訓練ループ\n",
        "- 検証/テストループ"
      ],
      "metadata": {
        "id": "ROYBGQSRICtc"
      }
    },
    {
      "cell_type": "markdown",
      "source": [
        "訓練ループ内の最適化は3つのステップから構成される\n",
        "1. optimizer.zero_gradでモデルパラメータの勾配をリセット\n",
        "2. loss.backwards()を実行し、誤差逆伝播を実行\n",
        "3. optimizer.step()を実行し、各パラメータの勾配を使用してパラメータを調整"
      ],
      "metadata": {
        "id": "rxhsCtOAIpEc"
      }
    },
    {
      "cell_type": "markdown",
      "source": [
        "---\n",
        "## 実装全体"
      ],
      "metadata": {
        "id": "IrMB_iH-J_b3"
      }
    },
    {
      "cell_type": "code",
      "source": [
        "def train_loop(dataloader, model, loss_fn, optimizer):\n",
        "  size = len(dataloader.dataset)\n",
        "  for batch, (X, y) in enumerate(dataloader):\n",
        "    # 予測と損失の計算\n",
        "    pred = model(X)\n",
        "    loss = loss_fn(pred, y)\n",
        "\n",
        "    # バックプロぱげーション\n",
        "    optimizer.zero_grad()\n",
        "    loss.backward()\n",
        "    optimizer.step()\n",
        "\n",
        "    if batch % 100 == 0:\n",
        "      loss, current = loss.item(), batch * len(X)\n",
        "      print(f\"loss: {loss:>7f} [{current:>5d} / {size:>5d}]\")\n",
        "\n",
        "def test_loop(dataloader, model, loss_fn):\n",
        "  size = len(dataloader.dataset)\n",
        "  test_loss, correct = 0, 0\n",
        "\n",
        "  with torch.no_grad():\n",
        "    for X, y in dataloader:\n",
        "      pred = model(X)\n",
        "      test_loss += loss_fn(pred, y).item()\n",
        "      correct += (pred.argmax(1) == y).type(torch.float).sum().item()\n",
        "\n",
        "  test_loss /= size\n",
        "  correct /= size\n",
        "  print(f\"Test Error: \\n Accuracy: {(100*correct):>0.1f}%, Abg loss: {test_loss:>8f} \\n\")"
      ],
      "metadata": {
        "id": "sqp-U_n2KElB"
      },
      "execution_count": 9,
      "outputs": []
    },
    {
      "cell_type": "code",
      "source": [
        "loss_fn = nn.CrossEntropyLoss()\n",
        "optimizer = torch.optim.SGD(model.parameters(), lr=learning_rate)\n",
        "\n",
        "epocks = 10\n",
        "for t in range(epocks):\n",
        "  print(f\"Epock {t+1}\\n-----------------------\")\n",
        "  train_loop(train_dataloader, model, loss_fn, optimizer)\n",
        "  test_loop(test_dataloader, model, loss_fn)\n",
        "print(\"Done!\")"
      ],
      "metadata": {
        "colab": {
          "base_uri": "https://localhost:8080/"
        },
        "id": "D1_kuUKrLmZ9",
        "outputId": "eb3aeb36-dd0a-41fe-dd94-cf2650dcc0f5"
      },
      "execution_count": 10,
      "outputs": [
        {
          "output_type": "stream",
          "name": "stdout",
          "text": [
            "Epock 1\n",
            "-----------------------\n",
            "loss: 2.296608 [    0 / 60000]\n",
            "loss: 2.291032 [ 6400 / 60000]\n",
            "loss: 2.275388 [12800 / 60000]\n",
            "loss: 2.272488 [19200 / 60000]\n",
            "loss: 2.262043 [25600 / 60000]\n",
            "loss: 2.238742 [32000 / 60000]\n",
            "loss: 2.249823 [38400 / 60000]\n",
            "loss: 2.217973 [44800 / 60000]\n",
            "loss: 2.202534 [51200 / 60000]\n",
            "loss: 2.201185 [57600 / 60000]\n",
            "Test Error: \n",
            " Accuracy: 44.6%, Abg loss: 0.034196 \n",
            "\n",
            "Epock 2\n",
            "-----------------------\n",
            "loss: 2.182396 [    0 / 60000]\n",
            "loss: 2.180436 [ 6400 / 60000]\n",
            "loss: 2.123455 [12800 / 60000]\n",
            "loss: 2.147833 [19200 / 60000]\n",
            "loss: 2.102391 [25600 / 60000]\n",
            "loss: 2.064610 [32000 / 60000]\n",
            "loss: 2.110391 [38400 / 60000]\n",
            "loss: 2.031811 [44800 / 60000]\n",
            "loss: 2.027889 [51200 / 60000]\n",
            "loss: 2.030252 [57600 / 60000]\n",
            "Test Error: \n",
            " Accuracy: 55.3%, Abg loss: 0.030961 \n",
            "\n",
            "Epock 3\n",
            "-----------------------\n",
            "loss: 1.990966 [    0 / 60000]\n",
            "loss: 1.975782 [ 6400 / 60000]\n",
            "loss: 1.855312 [12800 / 60000]\n",
            "loss: 1.930572 [19200 / 60000]\n",
            "loss: 1.829816 [25600 / 60000]\n",
            "loss: 1.783656 [32000 / 60000]\n",
            "loss: 1.885137 [38400 / 60000]\n",
            "loss: 1.736597 [44800 / 60000]\n",
            "loss: 1.777292 [51200 / 60000]\n",
            "loss: 1.798396 [57600 / 60000]\n",
            "Test Error: \n",
            " Accuracy: 54.9%, Abg loss: 0.026496 \n",
            "\n",
            "Epock 4\n",
            "-----------------------\n",
            "loss: 1.725372 [    0 / 60000]\n",
            "loss: 1.701805 [ 6400 / 60000]\n",
            "loss: 1.521952 [12800 / 60000]\n",
            "loss: 1.684584 [19200 / 60000]\n",
            "loss: 1.536221 [25600 / 60000]\n",
            "loss: 1.504091 [32000 / 60000]\n",
            "loss: 1.680207 [38400 / 60000]\n",
            "loss: 1.483066 [44800 / 60000]\n",
            "loss: 1.573099 [51200 / 60000]\n",
            "loss: 1.641151 [57600 / 60000]\n",
            "Test Error: \n",
            " Accuracy: 57.7%, Abg loss: 0.023129 \n",
            "\n",
            "Epock 5\n",
            "-----------------------\n",
            "loss: 1.514456 [    0 / 60000]\n",
            "loss: 1.499393 [ 6400 / 60000]\n",
            "loss: 1.289448 [12800 / 60000]\n",
            "loss: 1.520263 [19200 / 60000]\n",
            "loss: 1.333617 [25600 / 60000]\n",
            "loss: 1.332586 [32000 / 60000]\n",
            "loss: 1.549294 [38400 / 60000]\n",
            "loss: 1.332155 [44800 / 60000]\n",
            "loss: 1.437736 [51200 / 60000]\n",
            "loss: 1.548330 [57600 / 60000]\n",
            "Test Error: \n",
            " Accuracy: 60.3%, Abg loss: 0.021011 \n",
            "\n",
            "Epock 6\n",
            "-----------------------\n",
            "loss: 1.371406 [    0 / 60000]\n",
            "loss: 1.372763 [ 6400 / 60000]\n",
            "loss: 1.141012 [12800 / 60000]\n",
            "loss: 1.412640 [19200 / 60000]\n",
            "loss: 1.201993 [25600 / 60000]\n",
            "loss: 1.219731 [32000 / 60000]\n",
            "loss: 1.459401 [38400 / 60000]\n",
            "loss: 1.234959 [44800 / 60000]\n",
            "loss: 1.342271 [51200 / 60000]\n",
            "loss: 1.478253 [57600 / 60000]\n",
            "Test Error: \n",
            " Accuracy: 61.8%, Abg loss: 0.019554 \n",
            "\n",
            "Epock 7\n",
            "-----------------------\n",
            "loss: 1.267639 [    0 / 60000]\n",
            "loss: 1.287685 [ 6400 / 60000]\n",
            "loss: 1.037440 [12800 / 60000]\n",
            "loss: 1.332760 [19200 / 60000]\n",
            "loss: 1.113029 [25600 / 60000]\n",
            "loss: 1.136138 [32000 / 60000]\n",
            "loss: 1.392369 [38400 / 60000]\n",
            "loss: 1.167448 [44800 / 60000]\n",
            "loss: 1.271094 [51200 / 60000]\n",
            "loss: 1.419943 [57600 / 60000]\n",
            "Test Error: \n",
            " Accuracy: 62.8%, Abg loss: 0.018478 \n",
            "\n",
            "Epock 8\n",
            "-----------------------\n",
            "loss: 1.187250 [    0 / 60000]\n",
            "loss: 1.225778 [ 6400 / 60000]\n",
            "loss: 0.959577 [12800 / 60000]\n",
            "loss: 1.270497 [19200 / 60000]\n",
            "loss: 1.049420 [25600 / 60000]\n",
            "loss: 1.070839 [32000 / 60000]\n",
            "loss: 1.340064 [38400 / 60000]\n",
            "loss: 1.118826 [44800 / 60000]\n",
            "loss: 1.216441 [51200 / 60000]\n",
            "loss: 1.355175 [57600 / 60000]\n",
            "Test Error: \n",
            " Accuracy: 63.9%, Abg loss: 0.017433 \n",
            "\n",
            "Epock 9\n",
            "-----------------------\n",
            "loss: 1.111836 [    0 / 60000]\n",
            "loss: 1.155204 [ 6400 / 60000]\n",
            "loss: 0.877483 [12800 / 60000]\n",
            "loss: 1.142449 [19200 / 60000]\n",
            "loss: 0.937917 [25600 / 60000]\n",
            "loss: 0.956180 [32000 / 60000]\n",
            "loss: 1.132057 [38400 / 60000]\n",
            "loss: 0.986848 [44800 / 60000]\n",
            "loss: 1.010017 [51200 / 60000]\n",
            "loss: 1.026974 [57600 / 60000]\n",
            "Test Error: \n",
            " Accuracy: 70.0%, Abg loss: 0.014896 \n",
            "\n",
            "Epock 10\n",
            "-----------------------\n",
            "loss: 0.970736 [    0 / 60000]\n",
            "loss: 1.043517 [ 6400 / 60000]\n",
            "loss: 0.782040 [12800 / 60000]\n",
            "loss: 0.992808 [19200 / 60000]\n",
            "loss: 0.838110 [25600 / 60000]\n",
            "loss: 0.856833 [32000 / 60000]\n",
            "loss: 0.990452 [38400 / 60000]\n",
            "loss: 0.900521 [44800 / 60000]\n",
            "loss: 0.912257 [51200 / 60000]\n",
            "loss: 0.901536 [57600 / 60000]\n",
            "Test Error: \n",
            " Accuracy: 71.2%, Abg loss: 0.013561 \n",
            "\n",
            "Done!\n"
          ]
        }
      ]
    },
    {
      "cell_type": "code",
      "source": [],
      "metadata": {
        "id": "yu7mVRdXPQtf"
      },
      "execution_count": null,
      "outputs": []
    }
  ]
}